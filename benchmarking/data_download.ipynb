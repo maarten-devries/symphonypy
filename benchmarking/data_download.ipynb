{
 "cells": [
  {
   "cell_type": "markdown",
   "id": "7e6fea21",
   "metadata": {},
   "source": [
    "# Download data used for benchmarking"
   ]
  },
  {
   "cell_type": "code",
   "execution_count": 1,
   "id": "d2526daf",
   "metadata": {},
   "outputs": [],
   "source": [
    "import os"
   ]
  },
  {
   "cell_type": "code",
   "execution_count": 2,
   "id": "58e2fd20",
   "metadata": {
    "collapsed": true
   },
   "outputs": [
    {
     "data": {
      "text/plain": [
       "'/home/ku/projs/symphony/data'"
      ]
     },
     "execution_count": 2,
     "metadata": {},
     "output_type": "execute_result"
    }
   ],
   "source": [
    "JUPYTER_DIR = os.path.dirname(os.path.abspath(\"__file__\"))\n",
    "DATA_DIR = os.path.join(os.path.dirname(JUPYTER_DIR), \"data\")\n",
    "DATA_DIR"
   ]
  },
  {
   "cell_type": "code",
   "execution_count": 9,
   "id": "893f62b0",
   "metadata": {},
   "outputs": [],
   "source": [
    "!mkdir -p $DATA_DIR"
   ]
  },
  {
   "cell_type": "markdown",
   "id": "862e4152",
   "metadata": {},
   "source": [
    "## 1. PBMC_Satija.h5ad"
   ]
  },
  {
   "cell_type": "code",
   "execution_count": 8,
   "id": "3b6feb7b",
   "metadata": {},
   "outputs": [
    {
     "name": "stdout",
     "output_type": "stream",
     "text": [
      "Downloading...\n",
      "From: https://drive.google.com/uc?id=1jW548g6ERFS0t7NywgyjRs6VaE5QwXbg&confirm=t\n",
      "To: /home/ku/projs/symphony/data\n",
      "100%|████████████████████████████████████████| 243M/243M [00:30<00:00, 7.91MB/s]\n"
     ]
    }
   ],
   "source": [
    "!gdown \"1jW548g6ERFS0t7NywgyjRs6VaE5QwXbg&confirm=t\" -O $DATA_DIR"
   ]
  },
  {
   "cell_type": "code",
   "execution_count": null,
   "id": "4a8e30a0",
   "metadata": {},
   "outputs": [],
   "source": []
  }
 ],
 "metadata": {
  "kernelspec": {
   "display_name": "symphony",
   "language": "python",
   "name": "symphony"
  },
  "language_info": {
   "codemirror_mode": {
    "name": "ipython",
    "version": 3
   },
   "file_extension": ".py",
   "mimetype": "text/x-python",
   "name": "python",
   "nbconvert_exporter": "python",
   "pygments_lexer": "ipython3",
   "version": "3.10.8"
  }
 },
 "nbformat": 4,
 "nbformat_minor": 5
}
